{
  "nbformat": 4,
  "nbformat_minor": 0,
  "metadata": {
    "colab": {
      "provenance": []
    },
    "kernelspec": {
      "name": "python3",
      "display_name": "Python 3"
    },
    "language_info": {
      "name": "python"
    }
  },
  "cells": [
    {
      "cell_type": "markdown",
      "source": [
        "# **Data Pulling, Cleaning and Merging**"
      ],
      "metadata": {
        "id": "fjdOeOrUDSe4"
      }
    },
    {
      "cell_type": "markdown",
      "source": [
        "## **File Type Conversion**"
      ],
      "metadata": {
        "id": "Oz5sv_OI5mf2"
      }
    },
    {
      "cell_type": "markdown",
      "source": [
        "Upload Movies, Ratings, & Users DAT files from [MovieLens 1M Dataset](https://grouplens.org/datasets/movielens/1m/) for conversion to CSV"
      ],
      "metadata": {
        "id": "D0uMIBSLWoIY"
      }
    },
    {
      "cell_type": "code",
      "source": [
        "from google.colab import drive\n",
        "\n",
        "# mount Google drive\n",
        "drive.mount('/content/drive')"
      ],
      "metadata": {
        "colab": {
          "base_uri": "https://localhost:8080/"
        },
        "id": "LQ-whKz6SoRC",
        "outputId": "dfec1455-006b-4674-ed5f-e63157a7e570"
      },
      "execution_count": 2,
      "outputs": [
        {
          "output_type": "stream",
          "name": "stdout",
          "text": [
            "Mounted at /content/drive\n"
          ]
        }
      ]
    },
    {
      "cell_type": "code",
      "source": [
        "!ls /content/drive/MyDrive"
      ],
      "metadata": {
        "colab": {
          "base_uri": "https://localhost:8080/"
        },
        "id": "8F9A7fzTXN7g",
        "outputId": "d4f2aa60-66eb-45c5-948d-200ffc2f7952"
      },
      "execution_count": 5,
      "outputs": [
        {
          "output_type": "stream",
          "name": "stdout",
          "text": [
            " 718_movie_recommendation_system.ipynb\t\t\t    'IDS Project'\n",
            " BDA-Labs\t\t\t\t\t\t    'Linear Regression and Statistics'\n",
            " Big-Data-Presentation.gslides\t\t\t\t     links.csv\n",
            "'Big Data Project'\t\t\t\t\t     movie_genome_joined.csv\n",
            " Cat-1.jpeg\t\t\t\t\t\t     movie-recommendation-system\n",
            " Cat-2.jpeg\t\t\t\t\t\t     Real-Cat-check.jpeg\n",
            " Cat-3.jpeg\t\t\t\t\t\t     spectrograms.zip\n",
            "'Colab Notebooks'\t\t\t\t\t     Sports_Analytics\n",
            "'Copy of Film Script Project Proposal by Slidesgo.gslides'   sst_dev.txt\n",
            " data.csv\t\t\t\t\t\t     sst_test.txt\n",
            "'Deep Learning Project'\t\t\t\t\t     sst_train.txt\n",
            "'DLP_Lab_05_CNN (1).ipynb'\t\t\t\t    'Untitled document.gdoc'\n",
            "'EDA (1).ipynb'\t\t\t\t\t\t     User-Movie-data.parquet\n",
            " glove.6B.100d.txt\t\t\t\t\t     whale-detection-challenge\n"
          ]
        }
      ]
    },
    {
      "cell_type": "markdown",
      "source": [
        "# Convert Movies data into CSV"
      ],
      "metadata": {
        "id": "_l38A51hW0Cf"
      }
    },
    {
      "cell_type": "code",
      "execution_count": 6,
      "metadata": {
        "colab": {
          "base_uri": "https://localhost:8080/"
        },
        "id": "KXlP4DbvO2X5",
        "outputId": "bc64bd3b-ad88-493b-fa9c-1121911c34f0"
      },
      "outputs": [
        {
          "output_type": "stream",
          "name": "stdout",
          "text": [
            "Conversion complete!\n"
          ]
        }
      ],
      "source": [
        "from pyspark.sql import SparkSession\n",
        "from pyspark.sql.functions import split\n",
        "\n",
        "# start session\n",
        "spark = SparkSession.builder.appName(\"MovieRecommender\").getOrCreate()\n",
        "\n",
        "# Google drive folder\n",
        "drive_path = '/content/drive/MyDrive/movie-recommendation-system/read-in/'\n",
        "\n",
        "# file path\n",
        "dat_file_path = drive_path + 'movies.dat'\n",
        "\n",
        "# read in DAT as text\n",
        "df = spark.read.text(dat_file_path)\n",
        "\n",
        "# mark deliminater (based on README data description)\n",
        "delimiter = \"::\"\n",
        "\n",
        "# split into columns\n",
        "df_split = df.withColumn(\"split_data\", split(df[\"value\"], delimiter))\n",
        "\n",
        "# extract/name columns (based on README data description)\n",
        "df_final = df_split.selectExpr(\n",
        "    \"split_data[0] as MovieID\",\n",
        "    \"split_data[1] as Title\",\n",
        "    \"split_data[2] as Genres\"\n",
        ")\n",
        "\n",
        "# Google drive output folder\n",
        "output_drive_path = '/content/drive/MyDrive/movie-recommendation-system/output-csv/'\n",
        "\n",
        "# CSV name\n",
        "output_csv_path_movies = output_drive_path + \"movies.csv\"\n",
        "\n",
        "# save to one CSV file, overwrite for code rerun\n",
        "df_final.coalesce(1).write.mode(\"overwrite\").csv(output_csv_path_movies, header=True)\n",
        "\n",
        "print(\"Conversion complete!\")"
      ]
    },
    {
      "cell_type": "markdown",
      "source": [
        "#Convert Ratings data to CSV"
      ],
      "metadata": {
        "id": "qFuAmTp2XmSb"
      }
    },
    {
      "cell_type": "code",
      "source": [
        "dat_file_path = drive_path + 'ratings.dat'\n",
        "\n",
        "df = spark.read.text(dat_file_path)\n",
        "\n",
        "delimiter = \"::\"\n",
        "\n",
        "df_split = df.withColumn(\"split_data\", split(df[\"value\"], delimiter))\n",
        "\n",
        "df_final = df_split.selectExpr(\n",
        "    \"split_data[0] as UserID\",\n",
        "    \"split_data[1] as MovieID\",\n",
        "    \"split_data[2] as Rating\",\n",
        "    \"split_data[3] as Timestamp\"\n",
        ")\n",
        "\n",
        "output_csv_path_ratings = output_drive_path + \"ratings.csv\"\n",
        "\n",
        "df_final.coalesce(1).write.mode(\"overwrite\").csv(output_csv_path_ratings, header=True)\n",
        "\n",
        "print(\"Conversion 2 complete!\")"
      ],
      "metadata": {
        "colab": {
          "base_uri": "https://localhost:8080/"
        },
        "id": "hGT0nSBkTgml",
        "outputId": "25194269-da70-4fbf-e2a7-448a9ae9aa36"
      },
      "execution_count": 7,
      "outputs": [
        {
          "output_type": "stream",
          "name": "stdout",
          "text": [
            "Conversion 2 complete!\n"
          ]
        }
      ]
    },
    {
      "cell_type": "markdown",
      "source": [
        "# Convert Users data to CSV"
      ],
      "metadata": {
        "id": "ccUqY-okXr8t"
      }
    },
    {
      "cell_type": "code",
      "source": [
        "dat_file_path = drive_path + 'users.dat'\n",
        "\n",
        "df = spark.read.text(dat_file_path)\n",
        "\n",
        "delimiter = \"::\"\n",
        "\n",
        "df_split = df.withColumn(\"split_data\", split(df[\"value\"], delimiter))\n",
        "\n",
        "df_final = df_split.selectExpr(\n",
        "    \"split_data[0] as UserID\",\n",
        "    \"split_data[1] as Gender\",\n",
        "    \"split_data[2] as Age\",\n",
        "    \"split_data[3] as Occupation\",\n",
        "    \"split_data[4] as Zip_Code\"\n",
        ")\n",
        "\n",
        "output_csv_path_users = output_drive_path + \"users.csv\"\n",
        "\n",
        "df_final.coalesce(1).write.mode(\"overwrite\").csv(output_csv_path_users, header=True)\n",
        "\n",
        "print(\"Conversion 3 complete!\")"
      ],
      "metadata": {
        "colab": {
          "base_uri": "https://localhost:8080/"
        },
        "id": "lCQAq4clUeql",
        "outputId": "91ec7f03-070d-4631-9e99-410e42871bc3"
      },
      "execution_count": 8,
      "outputs": [
        {
          "output_type": "stream",
          "name": "stdout",
          "text": [
            "Conversion 3 complete!\n"
          ]
        }
      ]
    },
    {
      "cell_type": "markdown",
      "source": [
        "## **Converted File Schema Checks**"
      ],
      "metadata": {
        "id": "v3thzbwF71nJ"
      }
    },
    {
      "cell_type": "markdown",
      "source": [
        "## Movies Data"
      ],
      "metadata": {
        "id": "6aXoB_OyX6hh"
      }
    },
    {
      "cell_type": "code",
      "source": [
        "movies = spark.read.csv(output_csv_path_movies, header=True, inferSchema=True)\n",
        "\n",
        "movies.printSchema()\n",
        "\n",
        "rows = movies.count()\n",
        "columns = len(movies.columns)\n",
        "print(f\"Movies DF Shape: ({rows}, {columns})\")"
      ],
      "metadata": {
        "colab": {
          "base_uri": "https://localhost:8080/"
        },
        "id": "uN3q-Af1VG0v",
        "outputId": "f1b8862c-6d9a-4923-da71-dfe153036b71"
      },
      "execution_count": 9,
      "outputs": [
        {
          "output_type": "stream",
          "name": "stdout",
          "text": [
            "root\n",
            " |-- MovieID: integer (nullable = true)\n",
            " |-- Title: string (nullable = true)\n",
            " |-- Genres: string (nullable = true)\n",
            "\n",
            "Movies DF Shape: (3883, 3)\n"
          ]
        }
      ]
    },
    {
      "cell_type": "code",
      "source": [
        "#movies.show(truncate=False)"
      ],
      "metadata": {
        "id": "DE5r5DYYVsTw"
      },
      "execution_count": null,
      "outputs": []
    },
    {
      "cell_type": "markdown",
      "source": [
        "## Ratings Data"
      ],
      "metadata": {
        "id": "k0X0nGT3YCmj"
      }
    },
    {
      "cell_type": "code",
      "source": [
        "ratings = spark.read.csv(output_csv_path_ratings, header=True, inferSchema=True)\n",
        "\n",
        "ratings.printSchema()\n",
        "\n",
        "rows = ratings.count()\n",
        "columns = len(ratings.columns)\n",
        "print(f\"Ratings DF Shape: ({rows}, {columns})\")"
      ],
      "metadata": {
        "colab": {
          "base_uri": "https://localhost:8080/"
        },
        "id": "pThBNLYOWRBk",
        "outputId": "181224b0-6bc7-470c-c943-f3ba0950dfec"
      },
      "execution_count": 10,
      "outputs": [
        {
          "output_type": "stream",
          "name": "stdout",
          "text": [
            "root\n",
            " |-- UserID: integer (nullable = true)\n",
            " |-- MovieID: integer (nullable = true)\n",
            " |-- Rating: integer (nullable = true)\n",
            " |-- Timestamp: integer (nullable = true)\n",
            "\n",
            "Ratings DF Shape: (1000209, 4)\n"
          ]
        }
      ]
    },
    {
      "cell_type": "code",
      "source": [
        "#ratings.show(truncate=False)"
      ],
      "metadata": {
        "id": "4GAMLjCnWfyU"
      },
      "execution_count": null,
      "outputs": []
    },
    {
      "cell_type": "markdown",
      "source": [
        "## Users Data"
      ],
      "metadata": {
        "id": "ckpO4phzYwYx"
      }
    },
    {
      "cell_type": "code",
      "source": [
        "users = spark.read.csv(output_csv_path_users, header=True, inferSchema=True)\n",
        "\n",
        "users.printSchema()\n",
        "\n",
        "rows = users.count()\n",
        "columns = len(users.columns)\n",
        "print(f\"Users DF Shape: ({rows}, {columns})\")"
      ],
      "metadata": {
        "colab": {
          "base_uri": "https://localhost:8080/"
        },
        "id": "zmUPPfW_YRpW",
        "outputId": "038899ee-afd5-4646-afa4-d55a2fc6add0"
      },
      "execution_count": 11,
      "outputs": [
        {
          "output_type": "stream",
          "name": "stdout",
          "text": [
            "root\n",
            " |-- UserID: integer (nullable = true)\n",
            " |-- Gender: string (nullable = true)\n",
            " |-- Age: integer (nullable = true)\n",
            " |-- Occupation: integer (nullable = true)\n",
            " |-- Zip_Code: string (nullable = true)\n",
            "\n",
            "Users DF Shape: (6040, 5)\n"
          ]
        }
      ]
    },
    {
      "cell_type": "code",
      "source": [
        "#users.show(truncate=False)"
      ],
      "metadata": {
        "id": "TjbNhPxUYotU"
      },
      "execution_count": null,
      "outputs": []
    },
    {
      "cell_type": "markdown",
      "source": [
        "## **Timestamp Conversion to DateTime**"
      ],
      "metadata": {
        "id": "TKWfEuIF8Ufh"
      }
    },
    {
      "cell_type": "markdown",
      "source": [
        "Convert to datetime format for readability"
      ],
      "metadata": {
        "id": "Ayy8HNaG_JW3"
      }
    },
    {
      "cell_type": "code",
      "source": [
        "from pyspark.sql.functions import col, from_unixtime\n",
        "\n",
        "ratings_datetime = ratings.withColumn(\"date_time\", from_unixtime(col(\"Timestamp\")))\n",
        "\n",
        "#ratings_datetime.show(truncate=False)"
      ],
      "metadata": {
        "id": "pZElaa3UY6zY"
      },
      "execution_count": 12,
      "outputs": []
    },
    {
      "cell_type": "markdown",
      "source": [
        "## **MovieLens 1M Data Joins**"
      ],
      "metadata": {
        "id": "r11bC70_cJhe"
      }
    },
    {
      "cell_type": "markdown",
      "source": [
        "Join movies & ratings on MovieID"
      ],
      "metadata": {
        "id": "o6OlZ-yWcftI"
      }
    },
    {
      "cell_type": "code",
      "source": [
        "movie_rating_joined = movies\\\n",
        "  .join(ratings_datetime,\n",
        "        on = 'MovieID',\n",
        "        how = 'inner')"
      ],
      "metadata": {
        "id": "jdFoB7LScMvQ"
      },
      "execution_count": 13,
      "outputs": []
    },
    {
      "cell_type": "code",
      "source": [
        "#movie_rating_joined.show(truncate=False)"
      ],
      "metadata": {
        "id": "wlM6GQN8eAFw"
      },
      "execution_count": null,
      "outputs": []
    },
    {
      "cell_type": "markdown",
      "source": [
        "Join movie_rating_joined & users on UserID"
      ],
      "metadata": {
        "id": "DeYDxSYyhgBP"
      }
    },
    {
      "cell_type": "code",
      "source": [
        "movie_final_joined = movie_rating_joined\\\n",
        "  .join(users,\n",
        "        on = 'UserID',\n",
        "        how = 'inner')"
      ],
      "metadata": {
        "id": "4WrdRpPUhiAC"
      },
      "execution_count": 14,
      "outputs": []
    },
    {
      "cell_type": "code",
      "source": [
        "#movie_final_joined.show(truncate=False)"
      ],
      "metadata": {
        "id": "FSnKT6Q7hrS2"
      },
      "execution_count": null,
      "outputs": []
    },
    {
      "cell_type": "code",
      "source": [
        "movie_final_joined.printSchema()"
      ],
      "metadata": {
        "colab": {
          "base_uri": "https://localhost:8080/"
        },
        "id": "msT_IEP7j6HR",
        "outputId": "45596469-5455-4cbf-af2d-eb1d8f1f09fe"
      },
      "execution_count": null,
      "outputs": [
        {
          "output_type": "stream",
          "name": "stdout",
          "text": [
            "root\n",
            " |-- UserID: integer (nullable = true)\n",
            " |-- MovieID: integer (nullable = true)\n",
            " |-- Title: string (nullable = true)\n",
            " |-- Genres: string (nullable = true)\n",
            " |-- Rating: integer (nullable = true)\n",
            " |-- Timestamp: integer (nullable = true)\n",
            " |-- date_time: string (nullable = true)\n",
            " |-- Gender: string (nullable = true)\n",
            " |-- Age: integer (nullable = true)\n",
            " |-- Occupation: integer (nullable = true)\n",
            " |-- Zip_Code: string (nullable = true)\n",
            "\n"
          ]
        }
      ]
    },
    {
      "cell_type": "markdown",
      "source": [
        "Convert movie_final_joined to CSV"
      ],
      "metadata": {
        "id": "qBeK9rzykOE_"
      }
    },
    {
      "cell_type": "code",
      "source": [
        "# CSV path\n",
        "output_csv_path_moviefinal = output_drive_path + \"movie_final_joined.csv\"\n",
        "\n",
        "# save as one CSV file, overwrite for code rerun\n",
        "movie_final_joined.coalesce(1).write.mode(\"overwrite\").csv(output_csv_path_moviefinal, header=True)\n",
        "\n",
        "print(\"CSV conversion complete!\")"
      ],
      "metadata": {
        "colab": {
          "base_uri": "https://localhost:8080/"
        },
        "id": "0iYhq2nZkQHa",
        "outputId": "6bf1fdca-329c-4ae3-c908-1825a8e6362f"
      },
      "execution_count": 15,
      "outputs": [
        {
          "output_type": "stream",
          "name": "stdout",
          "text": [
            "CSV conversion complete!\n"
          ]
        }
      ]
    },
    {
      "cell_type": "markdown",
      "source": [
        "## **Add Metadata to Final Dataset**"
      ],
      "metadata": {
        "id": "D0yMtFfF_scv"
      }
    },
    {
      "cell_type": "markdown",
      "source": [
        "Convert [MovieLens Tag Genome Dataset 2021](https://grouplens.org/datasets/movielens/tag-genome-2021/) metadata_updated.json to CSV"
      ],
      "metadata": {
        "id": "DjiiSXq8BuKh"
      }
    },
    {
      "cell_type": "code",
      "source": [
        "json_file_path = drive_path + 'metadata_updated.json'\n",
        "\n",
        "df = spark.read.json(json_file_path)\n",
        "\n",
        "#df.show(truncate=False)"
      ],
      "metadata": {
        "id": "CPNlRS6BAqE6"
      },
      "execution_count": 16,
      "outputs": []
    },
    {
      "cell_type": "code",
      "source": [
        "output_csv_path_metadata = output_drive_path + \"metadata_updated.csv\"\n",
        "\n",
        "df.coalesce(1).write.mode(\"overwrite\").csv(output_csv_path_metadata, header=True)\n",
        "\n",
        "print(\"JSON to CSV conversion complete!\")"
      ],
      "metadata": {
        "colab": {
          "base_uri": "https://localhost:8080/"
        },
        "id": "HEXKKintB3ls",
        "outputId": "c9046c81-36a7-4ff3-cbd3-750d91e1ace1"
      },
      "execution_count": 17,
      "outputs": [
        {
          "output_type": "stream",
          "name": "stdout",
          "text": [
            "JSON to CSV conversion complete!\n"
          ]
        }
      ]
    },
    {
      "cell_type": "markdown",
      "source": [
        "Convert metadata to dataframe"
      ],
      "metadata": {
        "id": "nlEfWGMmGtcb"
      }
    },
    {
      "cell_type": "code",
      "source": [
        "metadata = spark.read.csv(output_csv_path_metadata, header=True, inferSchema=True)\n",
        "\n",
        "metadata.printSchema()\n",
        "\n",
        "rows = metadata.count()\n",
        "columns = len(metadata.columns)\n",
        "print(f\"Metadata DF Shape: ({rows}, {columns})\")"
      ],
      "metadata": {
        "colab": {
          "base_uri": "https://localhost:8080/"
        },
        "id": "IuNRxklAGOv5",
        "outputId": "352123d7-a61b-4a85-c517-0068ff2763cf"
      },
      "execution_count": 18,
      "outputs": [
        {
          "output_type": "stream",
          "name": "stdout",
          "text": [
            "root\n",
            " |-- avgRating: double (nullable = true)\n",
            " |-- directedBy: string (nullable = true)\n",
            " |-- imdbId: integer (nullable = true)\n",
            " |-- item_id: integer (nullable = true)\n",
            " |-- starring: string (nullable = true)\n",
            " |-- title: string (nullable = true)\n",
            "\n",
            "Metadata DF Shape: (84661, 6)\n"
          ]
        }
      ]
    },
    {
      "cell_type": "markdown",
      "source": [
        "Rename title column for joining"
      ],
      "metadata": {
        "id": "e68lGHyy9x8a"
      }
    },
    {
      "cell_type": "code",
      "source": [
        "metadata = metadata.withColumnRenamed(\"title\", \"Title\")"
      ],
      "metadata": {
        "id": "cW5hN66HHMHl"
      },
      "execution_count": 19,
      "outputs": []
    },
    {
      "cell_type": "code",
      "source": [
        "#metadata.show(truncate=False)"
      ],
      "metadata": {
        "id": "bPnttcYqGXba"
      },
      "execution_count": null,
      "outputs": []
    },
    {
      "cell_type": "markdown",
      "source": [
        "Join metadata to final MovieLens 1M dataset, movie_final_joined, on Title"
      ],
      "metadata": {
        "id": "m2UjpCMi98Tc"
      }
    },
    {
      "cell_type": "code",
      "source": [
        "movie_genome_joined = movie_final_joined\\\n",
        "  .join(metadata,\n",
        "        on = 'Title',\n",
        "        how = 'inner')"
      ],
      "metadata": {
        "id": "aKAhaILsFwll"
      },
      "execution_count": 20,
      "outputs": []
    },
    {
      "cell_type": "code",
      "source": [
        "#movie_genome_joined.show(truncate=False)"
      ],
      "metadata": {
        "id": "ZsvDOImxH9bG"
      },
      "execution_count": null,
      "outputs": []
    },
    {
      "cell_type": "code",
      "source": [
        "movie_genome_joined.printSchema()\n",
        "\n",
        "rows = movie_genome_joined.count()\n",
        "columns = len(movie_genome_joined.columns)\n",
        "print(f\"Movie/Genome DF Shape: ({rows}, {columns})\")"
      ],
      "metadata": {
        "colab": {
          "base_uri": "https://localhost:8080/"
        },
        "id": "eN1HvMpkIA4f",
        "outputId": "5d42f606-bd4c-4b29-ac8e-9df1d9c37489"
      },
      "execution_count": 21,
      "outputs": [
        {
          "output_type": "stream",
          "name": "stdout",
          "text": [
            "root\n",
            " |-- Title: string (nullable = true)\n",
            " |-- UserID: integer (nullable = true)\n",
            " |-- MovieID: integer (nullable = true)\n",
            " |-- Genres: string (nullable = true)\n",
            " |-- Rating: integer (nullable = true)\n",
            " |-- Timestamp: integer (nullable = true)\n",
            " |-- date_time: string (nullable = true)\n",
            " |-- Gender: string (nullable = true)\n",
            " |-- Age: integer (nullable = true)\n",
            " |-- Occupation: integer (nullable = true)\n",
            " |-- Zip_Code: string (nullable = true)\n",
            " |-- avgRating: double (nullable = true)\n",
            " |-- directedBy: string (nullable = true)\n",
            " |-- imdbId: integer (nullable = true)\n",
            " |-- item_id: integer (nullable = true)\n",
            " |-- starring: string (nullable = true)\n",
            "\n",
            "Movie/Genome DF Shape: (917402, 16)\n"
          ]
        }
      ]
    },
    {
      "cell_type": "markdown",
      "source": [
        "Save final dataset with metadata, movie_genome_joined, to CSV"
      ],
      "metadata": {
        "id": "yl_srQN2AJ_q"
      }
    },
    {
      "cell_type": "code",
      "source": [
        "# file path\n",
        "output_csv_path_moviegenome = output_drive_path + \"movie_genome_joined.csv\"\n",
        "\n",
        "# save as one CSV file, overwrite filename for rerunning code\n",
        "movie_genome_joined.coalesce(1).write.mode(\"overwrite\").csv(output_csv_path_moviegenome, header=True)\n",
        "\n",
        "print(\"Final CSV conversion complete!\")"
      ],
      "metadata": {
        "colab": {
          "base_uri": "https://localhost:8080/"
        },
        "id": "MJozOH_bWwjX",
        "outputId": "b3543d85-77e4-49cd-ef5e-3a21026e9953"
      },
      "execution_count": 22,
      "outputs": [
        {
          "output_type": "stream",
          "name": "stdout",
          "text": [
            "Final CSV conversion complete!\n"
          ]
        }
      ]
    },
    {
      "cell_type": "code",
      "source": [
        "pip install IMDbPY"
      ],
      "metadata": {
        "colab": {
          "base_uri": "https://localhost:8080/"
        },
        "id": "tNB87yElYbx-",
        "outputId": "e4af9f29-4d9d-4972-f02e-dc48c580f420"
      },
      "execution_count": 23,
      "outputs": [
        {
          "output_type": "stream",
          "name": "stdout",
          "text": [
            "Collecting IMDbPY\n",
            "  Downloading IMDbPY-2022.7.9-py3-none-any.whl.metadata (498 bytes)\n",
            "Collecting cinemagoer (from IMDbPY)\n",
            "  Downloading cinemagoer-2023.5.1-py3-none-any.whl.metadata (2.9 kB)\n",
            "Requirement already satisfied: SQLAlchemy in /usr/local/lib/python3.10/dist-packages (from cinemagoer->IMDbPY) (2.0.36)\n",
            "Requirement already satisfied: lxml in /usr/local/lib/python3.10/dist-packages (from cinemagoer->IMDbPY) (5.3.0)\n",
            "Requirement already satisfied: typing-extensions>=4.6.0 in /usr/local/lib/python3.10/dist-packages (from SQLAlchemy->cinemagoer->IMDbPY) (4.12.2)\n",
            "Requirement already satisfied: greenlet!=0.4.17 in /usr/local/lib/python3.10/dist-packages (from SQLAlchemy->cinemagoer->IMDbPY) (3.1.1)\n",
            "Downloading IMDbPY-2022.7.9-py3-none-any.whl (1.2 kB)\n",
            "Downloading cinemagoer-2023.5.1-py3-none-any.whl (297 kB)\n",
            "\u001b[2K   \u001b[90m━━━━━━━━━━━━━━━━━━━━━━━━━━━━━━━━━━━━━━━━\u001b[0m \u001b[32m297.2/297.2 kB\u001b[0m \u001b[31m5.3 MB/s\u001b[0m eta \u001b[36m0:00:00\u001b[0m\n",
            "\u001b[?25hInstalling collected packages: cinemagoer, IMDbPY\n",
            "Successfully installed IMDbPY-2022.7.9 cinemagoer-2023.5.1\n"
          ]
        }
      ]
    },
    {
      "cell_type": "markdown",
      "source": [
        "## This PySpark script initializes a Spark session, loads a CSV file containing movie and user data into a DataFrame, and infers its schema. The schema lists attributes like `Title`, `UserID`, `Genres`, `Rating`, and more, providing comprehensive movie and user interaction details. It also displays sample rows for inspection."
      ],
      "metadata": {
        "id": "brJkFLxzbF5F"
      }
    },
    {
      "cell_type": "code",
      "source": [
        "from pyspark.sql import SparkSession\n",
        "\n",
        "# Initialize Spark session\n",
        "spark = SparkSession.builder.appName(\"IMDb Details\").getOrCreate()\n",
        "\n",
        "# Load Excel file\n",
        "file_path = output_drive_path + \"movie_genome_joined.csv\" # Replace with the path to your Excel file\n",
        "df_spark = spark.read.csv(file_path, header=True, inferSchema=True)\n",
        "\n",
        "# Show DataFrame schema and sample rows\n",
        "df_spark.printSchema()\n",
        "df_spark.show(5)\n"
      ],
      "metadata": {
        "colab": {
          "base_uri": "https://localhost:8080/"
        },
        "id": "v-dx2_NbYffi",
        "outputId": "6851d178-d389-48e5-9daf-c321fac6f4b1"
      },
      "execution_count": 24,
      "outputs": [
        {
          "output_type": "stream",
          "name": "stdout",
          "text": [
            "root\n",
            " |-- Title: string (nullable = true)\n",
            " |-- UserID: integer (nullable = true)\n",
            " |-- MovieID: integer (nullable = true)\n",
            " |-- Genres: string (nullable = true)\n",
            " |-- Rating: integer (nullable = true)\n",
            " |-- Timestamp: integer (nullable = true)\n",
            " |-- date_time: timestamp (nullable = true)\n",
            " |-- Gender: string (nullable = true)\n",
            " |-- Age: integer (nullable = true)\n",
            " |-- Occupation: integer (nullable = true)\n",
            " |-- Zip_Code: string (nullable = true)\n",
            " |-- avgRating: double (nullable = true)\n",
            " |-- directedBy: string (nullable = true)\n",
            " |-- imdbId: integer (nullable = true)\n",
            " |-- item_id: integer (nullable = true)\n",
            " |-- starring: string (nullable = true)\n",
            "\n",
            "+--------------------+------+-------+-------------+------+---------+-------------------+------+---+----------+--------+---------+------------+------+-------+--------------------+\n",
            "|               Title|UserID|MovieID|       Genres|Rating|Timestamp|          date_time|Gender|Age|Occupation|Zip_Code|avgRating|  directedBy|imdbId|item_id|            starring|\n",
            "+--------------------+------+-------+-------------+------+---------+-------------------+------+---+----------+--------+---------+------------+------+-------+--------------------+\n",
            "|'Til There Was Yo...|    38|    779|Drama|Romance|     2|978045250|2000-12-28 23:14:10|     F| 18|         4|   02215|   2.8542|Scott Winant|118523|    779|John Plumpis, Jan...|\n",
            "|'Til There Was Yo...|    45|    779|Drama|Romance|     1|977988826|2000-12-28 07:33:46|     F| 45|        16|   94110|   2.8542|Scott Winant|118523|    779|John Plumpis, Jan...|\n",
            "|'Til There Was Yo...|   156|    779|Drama|Romance|     4|977250462|2000-12-19 18:27:42|     F| 45|         7|   14519|   2.8542|Scott Winant|118523|    779|John Plumpis, Jan...|\n",
            "|'Til There Was Yo...|   338|    779|Drama|Romance|     3|988167489|2001-04-25 02:58:09|     M| 35|         7|   55116|   2.8542|Scott Winant|118523|    779|John Plumpis, Jan...|\n",
            "|'Til There Was Yo...|   517|    779|Drama|Romance|     4|976202142|2000-12-07 15:15:42|     F| 25|        14|   55408|   2.8542|Scott Winant|118523|    779|John Plumpis, Jan...|\n",
            "+--------------------+------+-------+-------------+------+---------+-------------------+------+---+----------+--------+---------+------------+------+-------+--------------------+\n",
            "only showing top 5 rows\n",
            "\n"
          ]
        }
      ]
    },
    {
      "cell_type": "markdown",
      "source": [
        "## This script uses the IMDb API to fetch detailed metadata for a subset of unique IMDb IDs. After initializing an IMDb object, it defines a function to extract movie details like title, runtime, rating, plot outline, and director names. Using `ThreadPoolExecutor`, it fetches these details in parallel to optimize execution time.\n",
        "\n",
        "#### Progress is tracked using `tqdm`. Results are filtered to exclude errors and stored in a list. Finally, the list is converted into a Pandas DataFrame for easy visualization and analysis, enabling efficient integration of enriched metadata into the existing dataset."
      ],
      "metadata": {
        "id": "B6Dcgnu3bYeU"
      }
    },
    {
      "cell_type": "code",
      "source": [
        "import os\n",
        "import time\n",
        "from imdb import IMDb\n",
        "import pandas as pd\n",
        "from concurrent.futures import ThreadPoolExecutor, as_completed\n",
        "from tqdm import tqdm\n",
        "# Collect unique IMDb IDs into a list\n",
        "imdb_ids = df_spark.select('imdbId').distinct().rdd.flatMap(lambda x: x).collect()\n",
        "\n",
        "from imdb import IMDb\n",
        "import pandas as pd\n",
        "\n",
        "# Initialize the IMDb object\n",
        "ia = IMDb()\n",
        "\n",
        "# Function to fetch movie details and extract required fields\n",
        "def fetch_all_movie_details(imdb_id):\n",
        "    try:\n",
        "        # Fetch movie details\n",
        "        movie = ia.get_movie(imdb_id)\n",
        "\n",
        "        # Extract required fields\n",
        "        movie_details = {\n",
        "            \"localized_title\": movie.get(\"localized title\", \"N/A\"),\n",
        "            \"runtimes\": ', '.join(movie.get(\"runtimes\", [])),  # Convert list to string\n",
        "            \"rating\": movie.get(\"rating\", \"N/A\"),\n",
        "            \"plot_outline\": movie.get(\"plot outline\", \"N/A\"),\n",
        "            # Extract director names properly from the Person object list\n",
        "            \"director\": ', '.join([director[\"name\"] for director in movie.get(\"director\", [])]),  # Accessing 'name' from each Person object\n",
        "            \"imdbID\": movie.get(\"imdbID\", \"N/A\")\n",
        "        }\n",
        "\n",
        "        return movie_details\n",
        "    except Exception as e:\n",
        "        print(f\"Error fetching movie details: {e}\")\n",
        "        return None"
      ],
      "metadata": {
        "id": "h9D9f38EYlUW"
      },
      "execution_count": 25,
      "outputs": []
    },
    {
      "cell_type": "code",
      "source": [
        "# Use ThreadPoolExecutor for parallel fetching of movie details\n",
        "imdb_ids=imdb_ids[:100]\n",
        "movie_details_list=[]\n",
        "with ThreadPoolExecutor(max_workers=10) as executor:  # Adjust max_workers as needed\n",
        "    # Submit tasks to the executor and wrap in tqdm for progress tracking\n",
        "    future_to_imdb = {executor.submit(fetch_all_movie_details, imdb_id): imdb_id for imdb_id in imdb_ids}\n",
        "\n",
        "    for future in tqdm(as_completed(future_to_imdb), total=len(future_to_imdb), desc=\"Fetching Movie Details\"):\n",
        "        movie_details_list.append(future.result())"
      ],
      "metadata": {
        "id": "8Z80su0cYpZP"
      },
      "execution_count": null,
      "outputs": []
    },
    {
      "cell_type": "markdown",
      "source": [
        "#### The `movie_details_df` DataFrame stores detailed metadata for movies retrieved from the IMDb API. It includes six key columns: **localized_title** (movie title in its localized version), **runtimes** (movie duration in minutes), **rating** (IMDb user rating), **plot_outline** (a brief synopsis), **director** (names of directors), and **imdbID** (unique IMDb identifier)."
      ],
      "metadata": {
        "id": "ZVRgYuFEbrNK"
      }
    },
    {
      "cell_type": "code",
      "source": [
        "\n",
        "movie_details_list = [entry for entry in movie_details_list if entry is not None]\n",
        "\n",
        "# Convert the list to a Pandas DataFrame\n",
        "import pandas as pd\n",
        "movie_details_df = pd.DataFrame(movie_details_list)"
      ],
      "metadata": {
        "id": "eegI0SfOYrmx"
      },
      "execution_count": 42,
      "outputs": []
    },
    {
      "cell_type": "code",
      "source": [
        "print(movie_details_df.head())"
      ],
      "metadata": {
        "colab": {
          "base_uri": "https://localhost:8080/"
        },
        "id": "pH86_ukFcDxH",
        "outputId": "32a064e9-6a4e-48ce-ed8b-8c9f24d1b64a"
      },
      "execution_count": 44,
      "outputs": [
        {
          "output_type": "stream",
          "name": "stdout",
          "text": [
            "     localized_title runtimes  rating  \\\n",
            "0  The Cement Garden      105     7.0   \n",
            "1     Bachelor Party      105     6.3   \n",
            "2           Airheads       92     6.2   \n",
            "3      Puppet Master       90     5.5   \n",
            "4   Extreme Measures      118     6.2   \n",
            "\n",
            "                                        plot_outline          director  \\\n",
            "0  After her husband's death, the mother of Julie...     Andrew Birkin   \n",
            "1  Rick Gassko is about to marry Debbie Thompson....       Neal Israel   \n",
            "2  Three would be rockers Chazz, Rex and Pip, kno...   Michael Lehmann   \n",
            "3  Neil Gallagher found the secret to Toulon's pu...  David Schmoeller   \n",
            "4  Thriller about Guy Luthan (Hugh Grant), a Brit...     Michael Apted   \n",
            "\n",
            "    imdbID  \n",
            "0  0106535  \n",
            "1  0086927  \n",
            "2  0109068  \n",
            "3  0098143  \n",
            "4  0116259  \n"
          ]
        }
      ]
    },
    {
      "cell_type": "code",
      "source": [
        "import pandas as pd\n",
        "\n",
        "# Adjust display settings\n",
        "pd.set_option('display.max_rows', None)\n",
        "# Print all data types\n",
        "print(movie_details_df.dtypes)"
      ],
      "metadata": {
        "colab": {
          "base_uri": "https://localhost:8080/"
        },
        "id": "spQ2_FbFY1Lm",
        "outputId": "950a554b-d6ff-455c-9606-5426c1445eed"
      },
      "execution_count": 45,
      "outputs": [
        {
          "output_type": "stream",
          "name": "stdout",
          "text": [
            "localized_title     object\n",
            "runtimes            object\n",
            "rating             float64\n",
            "plot_outline        object\n",
            "director            object\n",
            "imdbID              object\n",
            "dtype: object\n"
          ]
        }
      ]
    },
    {
      "cell_type": "markdown",
      "source": [
        "### Write the satged code in the drive!"
      ],
      "metadata": {
        "id": "42T1bd0Kb24N"
      }
    },
    {
      "cell_type": "code",
      "source": [
        "movie_details_df.to_csv('data.csv')\n",
        "!cp data.csv '/content/drive/MyDrive/movie-recommendation-system/output-csv/data.csv'\n"
      ],
      "metadata": {
        "id": "LICDTr_5ZIje"
      },
      "execution_count": 32,
      "outputs": []
    },
    {
      "cell_type": "markdown",
      "source": [
        "## This code cell is run only when we pick data from a temporary stage to save time!"
      ],
      "metadata": {
        "id": "6v_dePa0aWc1"
      }
    },
    {
      "cell_type": "code",
      "source": [
        "'''# Load Excel file\n",
        "file_path = output_drive_path+ 'data.csv'  # Replace with the path to your Excel file\n",
        "movie_details_df= spark.read.csv(file_path, header=True, inferSchema=True)'''"
      ],
      "metadata": {
        "id": "2Clhq8seZRyb"
      },
      "execution_count": 35,
      "outputs": []
    },
    {
      "cell_type": "markdown",
      "source": [
        "This code snippet processes and cleans the movie metadata from a Pandas DataFrame, ensuring compatibility with Spark. Missing values are filled with defaults (e.g., empty strings or \"0.0\" for ratings), and list fields, if any, are converted to comma-separated strings. A custom schema is defined for a Spark DataFrame, specifying data types for each column, including strings for localized_title, runtimes, rating_imdb, plot_outline, director, and imdbID.\n",
        "\n",
        "The cleaned Pandas DataFrame is then converted into a Spark DataFrame using this schema. This Spark DataFrame (df_imdb_spark) organizes the movie details into a structured format suitable for distributed computing, allowing operations like filtering, joining, and analysis across large datasets. The example output shows the top 5 rows with key information like movie title, runtime, IMDb rating, plot synopsis, director names, and IMDb ID."
      ],
      "metadata": {
        "id": "MEsXqhiEcWc0"
      }
    },
    {
      "cell_type": "code",
      "source": [
        "from pyspark.sql import types as T\n",
        "# Clean the DataFrame (ensure no NaN or float issues are present)\n",
        "movie_details_df['localized_title'] = movie_details_df['localized_title'].fillna('')\n",
        "movie_details_df['rating'] = movie_details_df['rating'].fillna('0.0')\n",
        "movie_details_df['runtimes'] = movie_details_df['runtimes'].fillna('')\n",
        "movie_details_df['plot_outline'] = movie_details_df['plot_outline'].fillna('')\n",
        "movie_details_df['director'] = movie_details_df['director'].fillna('')\n",
        "movie_details_df['imdbID'] = movie_details_df['imdbID'].fillna('')\n",
        "\n",
        "# Optionally, ensure any list columns (if any) are strings\n",
        "movie_details_df['runtimes'] = movie_details_df['runtimes'].apply(lambda x: ', '.join(x) if isinstance(x, list) else x)\n",
        "movie_details_df['director'] = movie_details_df['director'].apply(lambda x: ', '.join(x) if isinstance(x, list) else x)\n",
        "\n",
        "# Define the schema for Spark DataFrame\n",
        "schema = T.StructType([\n",
        "\n",
        "    T.StructField(\"localized_title\", T.StringType(), True),\n",
        "    T.StructField(\"runtimes\", T.StringType(), True),  # Convert to string type\n",
        "    T.StructField(\"rating_imdb\", T.StringType(), True),\n",
        "    T.StructField(\"plot_outline\", T.StringType(), True),\n",
        "    T.StructField(\"director\", T.StringType(), True),\n",
        "       T.StructField(\"imdbID\", T.StringType(), True),# Convert to string type\n",
        "])\n",
        "\n",
        "# Convert the movie details DataFrame to a Spark DataFrame with the schema\n",
        "df_imdb_spark = spark.createDataFrame(movie_details_df, schema=schema)\n",
        "\n",
        "# Show the resulting Spark DataFrame\n",
        "df_imdb_spark.show(5)"
      ],
      "metadata": {
        "colab": {
          "base_uri": "https://localhost:8080/"
        },
        "id": "e7eYi1y-agX1",
        "outputId": "bbfb9080-e65c-4c88-fdc5-f34b3c771f95"
      },
      "execution_count": 40,
      "outputs": [
        {
          "output_type": "stream",
          "name": "stdout",
          "text": [
            "+-----------------+--------+-----------+--------------------+----------------+-------+\n",
            "|  localized_title|runtimes|rating_imdb|        plot_outline|        director| imdbID|\n",
            "+-----------------+--------+-----------+--------------------+----------------+-------+\n",
            "|The Cement Garden|     105|        7.0|After her husband...|   Andrew Birkin|0106535|\n",
            "|   Bachelor Party|     105|        6.3|Rick Gassko is ab...|     Neal Israel|0086927|\n",
            "|         Airheads|      92|        6.2|Three would be ro...| Michael Lehmann|0109068|\n",
            "|    Puppet Master|      90|        5.5|Neil Gallagher fo...|David Schmoeller|0098143|\n",
            "| Extreme Measures|     118|        6.2|Thriller about Gu...|   Michael Apted|0116259|\n",
            "+-----------------+--------+-----------+--------------------+----------------+-------+\n",
            "only showing top 5 rows\n",
            "\n"
          ]
        }
      ]
    },
    {
      "cell_type": "markdown",
      "source": [
        "#### The code merges two Spark DataFrames (`df_spark` and `df_imdb_spark`) using an inner join on `imdbID`. The resulting DataFrame (`df_joined`) combines user ratings, demographics, and movie details like `localized_title`, `runtimes`, and `plot_outline`, enriching the dataset for deeper analysis or recommendations. Only rows with matching `imdbID` are included."
      ],
      "metadata": {
        "id": "qhJWCti5cy0z"
      }
    },
    {
      "cell_type": "code",
      "source": [
        "# Perform the join on the 'imdbID' column (inner join)\n",
        "df_joined = df_spark.join(df_imdb_spark, on=\"imdbID\", how=\"inner\")\n",
        "\n",
        "# Show the resulting joined DataFrame\n",
        "df_joined.show(5)"
      ],
      "metadata": {
        "colab": {
          "base_uri": "https://localhost:8080/"
        },
        "id": "_omTJrzQajfP",
        "outputId": "f086fa44-7668-4bbe-fb8f-a99b35c3dbf4"
      },
      "execution_count": 41,
      "outputs": [
        {
          "output_type": "stream",
          "name": "stdout",
          "text": [
            "+------+--------------------+------+-------+-------+------+---------+-------------------+------+---+----------+--------+---------+--------------+-------+--------------------+-------------------+--------+-----------+--------------------+--------------+\n",
            "|imdbId|               Title|UserID|MovieID| Genres|Rating|Timestamp|          date_time|Gender|Age|Occupation|Zip_Code|avgRating|    directedBy|item_id|            starring|    localized_title|runtimes|rating_imdb|        plot_outline|      director|\n",
            "+------+--------------------+------+-------+-------+------+---------+-------------------+------+---+----------+--------+---------+--------------+-------+--------------------+-------------------+--------+-----------+--------------------+--------------+\n",
            "| 19729|Broadway Melody, ...|    68|   1926|Musical|     3|977882471|2000-12-27 02:01:11|     M| 18|         4|   53706|  3.07674|Harry Beaumont|   1926|Charles King, Bes...|The Broadway Melody|     100|        5.6|Hank and Queenie ...|Harry Beaumont|\n",
            "| 19729|Broadway Melody, ...|   169|   1926|Musical|     3|977208455|2000-12-19 06:47:35|     M| 25|         7|   55439|  3.07674|Harry Beaumont|   1926|Charles King, Bes...|The Broadway Melody|     100|        5.6|Hank and Queenie ...|Harry Beaumont|\n",
            "| 19729|Broadway Melody, ...|   178|   1926|Musical|     4|977098393|2000-12-18 00:13:13|     M| 56|        17|   53705|  3.07674|Harry Beaumont|   1926|Charles King, Bes...|The Broadway Melody|     100|        5.6|Hank and Queenie ...|Harry Beaumont|\n",
            "| 19729|Broadway Melody, ...|   850|   1926|Musical|     4|975356965|2000-11-27 20:29:25|     M| 35|         0|   60640|  3.07674|Harry Beaumont|   1926|Charles King, Bes...|The Broadway Melody|     100|        5.6|Hank and Queenie ...|Harry Beaumont|\n",
            "| 19729|Broadway Melody, ...|  1057|   1926|Musical|     3|974952583|2000-11-23 04:09:43|     M| 45|        17|   73069|  3.07674|Harry Beaumont|   1926|Charles King, Bes...|The Broadway Melody|     100|        5.6|Hank and Queenie ...|Harry Beaumont|\n",
            "+------+--------------------+------+-------+-------+------+---------+-------------------+------+---+----------+--------+---------+--------------+-------+--------------------+-------------------+--------+-----------+--------------------+--------------+\n",
            "only showing top 5 rows\n",
            "\n"
          ]
        }
      ]
    }
  ]
}